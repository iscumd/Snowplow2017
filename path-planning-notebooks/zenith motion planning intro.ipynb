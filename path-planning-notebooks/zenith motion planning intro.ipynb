<!DOCTYPE html>
<html ng-app="notebooks">
<head>
    <meta charset="utf-8" />
    <meta name="viewport" content="width=device-width, initial-scale=1.0">
    <meta name="description" content="Provides hosted access to IPython notebooks running in Microsoft Azure.">
    <meta name="keywords" content="IPython Microsoft Azure Jupyter Python machine learning scientific computing technical computing">
    <title></title>
    <link href="/Content/Site.less" rel="stylesheet"/>

    <link href="/Content/bootstrap/ng-tags-input.min.less" rel="stylesheet"/>

    <link href="/Content/bootstrap/ng-tags-input.bootstrap.min.less" rel="stylesheet"/>

    <script src="/bundles/modernizr?v=inCVuEFe6J4Q07A0AcRsbJic_UE5MwpRMNGcOtk94TE1"></script>

    <script src="//ajax.googleapis.com/ajax/libs/angularjs/1.5.8/angular.min.js"></script>
    <script src="//ajax.googleapis.com/ajax/libs/angularjs/1.5.8/angular-route.min.js"></script>
    <script src="//ajax.googleapis.com/ajax/libs/angularjs/1.5.8/angular-sanitize.min.js"></script>
    <script src="//ajax.googleapis.com/ajax/libs/angularjs/1.5.8/angular-cookies.min.js"></script>
    <script src="/bundles/jquery?v=cRpZpqaBtXGD5K6oveCrw6zWYGnzQmjc9FSFuRkN9OM1"></script>

    <script src="/Scripts/slick.min.js"></script>

    <script src="/Scripts/typed.js"></script>



    <script src="/bundles/angular_site?v=jXnRqpJICPJDptDeceE7MI4agmhHFEigjG4LjJexaf01"></script>

    <script src="/Content/ui-bootstrap-tpls-2.1.4.min.js"></script>

    <script src="/Content/ng-tags-input.min.js"></script>

    <script src="/Scripts/clipboard.min.js"></script>


    <base href="/">
    <noscript></noscript>
</head>
<body ng-controller="SiteController as site">
    <!-- BEGIN HEADER -->
<div class="header navbar-fixed-top">
    <div class="container brand-title">
        <a href="/" class="logo" ms.pgarea="header" ms.cmpgrp="header" ms.cmptyp="link" ms.cmpnm="" ms.title="Microsoft Azure" ms.interactiontype="1">
            <svg x="0px" y="0px" width="165px" height="20px" viewBox="0 0 165 20">
                <path fill="#29A5DE" d="M18,19H16V7.1C16,6.2,16,5,16.1,3.7h0c-0.2,0.8-0.4,1.4-0.5,1.7L9.5,19h-1l-6-13.5c-0.2-0.4-0.3-1-0.5-1.8
				h0C2,4.4,2,5.5,2,7.1V19H0V1.3h2.7l5.4,12.3c0.4,0.9,0.7,1.7,0.8,2.1H9c0.4-1,0.6-1.7,0.9-2.2l5.5-12.3H18V19z"></path>
                <path fill="#29A5DE" d="M22.8,3.1c-0.4,0-0.7-0.1-0.9-0.4s-0.4-0.6-0.4-0.9s0.1-0.7,0.4-0.9c0.3-0.3,0.6-0.4,0.9-0.4
				c0.4,0,0.7,0.1,0.9,0.4c0.3,0.3,0.4,0.6,0.4,0.9c0,0.4-0.1,0.7-0.4,0.9C23.5,3,23.2,3.1,22.8,3.1z M23.8,19h-2V6.3h2V19z"></path>
                <path fill="#29A5DE" d="M35.8,18.4c-1,0.6-2.1,0.9-3.5,0.9c-1.8,0-3.3-0.6-4.4-1.8c-1.1-1.2-1.7-2.7-1.7-4.6c0-2.1,0.6-3.7,1.8-5
				C29.4,6.7,30.9,6,32.9,6C34,6,35,6.2,35.9,6.7v2.1c-0.9-0.7-1.9-1-3-1c-1.3,0-2.3,0.5-3.2,1.4c-0.8,0.9-1.2,2.1-1.2,3.6
				c0,1.5,0.4,2.6,1.2,3.5c0.8,0.9,1.8,1.3,3.1,1.3c1.1,0,2.1-0.4,3.1-1.1V18.4z"></path>
                <path fill="#29A5DE" d="M44.9,8.4C44.5,8.1,44,8,43.3,8c-0.9,0-1.6,0.4-2.2,1.2c-0.6,0.8-0.9,1.9-0.9,3.3V19h-2V6.3h2v2.6h0
				c0.3-0.9,0.7-1.6,1.3-2.1c0.6-0.5,1.3-0.7,2-0.7c0.5,0,0.9,0.1,1.2,0.2V8.4z"></path>
                <path fill="#29A5DE" d="M51.4,19.3c-1.9,0-3.4-0.6-4.5-1.8c-1.1-1.2-1.7-2.7-1.7-4.7c0-2.1,0.6-3.8,1.7-5S49.7,6,51.7,6
				c1.9,0,3.4,0.6,4.4,1.7c1.1,1.2,1.6,2.8,1.6,4.8c0,2-0.6,3.6-1.7,4.8C54.8,18.6,53.3,19.3,51.4,19.3z M51.5,7.7
				c-1.3,0-2.3,0.4-3.1,1.3c-0.8,0.9-1.1,2.1-1.1,3.7c0,1.5,0.4,2.7,1.1,3.5c0.8,0.9,1.8,1.3,3.1,1.3c1.3,0,2.3-0.4,3-1.3
				c0.7-0.8,1.1-2,1.1-3.6c0-1.6-0.4-2.8-1.1-3.6C53.8,8.2,52.8,7.7,51.5,7.7z"></path>
                <path fill="#29A5DE" d="M59.5,18.5v-2.2c1.1,0.8,2.3,1.2,3.6,1.2c1.8,0,2.7-0.6,2.7-1.8c0-0.3-0.1-0.6-0.2-0.9
				c-0.2-0.2-0.4-0.4-0.6-0.6c-0.3-0.2-0.6-0.3-0.9-0.5c-0.3-0.1-0.7-0.3-1.1-0.4c-0.6-0.2-1-0.4-1.5-0.7c-0.4-0.2-0.8-0.5-1.1-0.8
				c-0.3-0.3-0.5-0.6-0.6-1c-0.1-0.4-0.2-0.8-0.2-1.3c0-0.6,0.1-1.1,0.4-1.6C60.2,7.7,60.5,7.3,61,7c0.5-0.3,1-0.5,1.5-0.7
				C63.1,6.1,63.7,6,64.3,6c1.1,0,2.1,0.2,2.9,0.6v2c-0.9-0.6-2-0.9-3.2-0.9c-0.4,0-0.7,0-1,0.1c-0.3,0.1-0.6,0.2-0.8,0.4
				c-0.2,0.2-0.4,0.3-0.5,0.6c-0.1,0.2-0.2,0.5-0.2,0.7c0,0.3,0.1,0.6,0.2,0.8c0.1,0.2,0.3,0.4,0.5,0.6c0.2,0.2,0.5,0.3,0.8,0.5
				c0.3,0.1,0.7,0.3,1.1,0.5c0.6,0.2,1.1,0.4,1.5,0.7c0.4,0.2,0.8,0.5,1.1,0.8c0.3,0.3,0.6,0.6,0.7,1c0.2,0.4,0.3,0.8,0.3,1.3
				c0,0.6-0.1,1.2-0.4,1.6c-0.3,0.5-0.6,0.8-1.1,1.1c-0.5,0.3-1,0.5-1.6,0.7c-0.6,0.1-1.2,0.2-1.9,0.2C61.6,19.3,60.4,19,59.5,18.5z"></path>
                <path fill="#29A5DE" d="M75.6,19.3c-1.9,0-3.4-0.6-4.5-1.8c-1.1-1.2-1.7-2.7-1.7-4.7c0-2.1,0.6-3.8,1.7-5C72.4,6.6,73.9,6,75.9,6
				c1.9,0,3.4,0.6,4.4,1.7c1.1,1.2,1.6,2.8,1.6,4.8c0,2-0.6,3.6-1.7,4.8C79,18.6,77.5,19.3,75.6,19.3z M75.7,7.7
				c-1.3,0-2.3,0.4-3.1,1.3c-0.8,0.9-1.1,2.1-1.1,3.7c0,1.5,0.4,2.7,1.1,3.5c0.8,0.9,1.8,1.3,3.1,1.3c1.3,0,2.3-0.4,3-1.3
				c0.7-0.8,1.1-2,1.1-3.6c0-1.6-0.4-2.8-1.1-3.6C78.1,8.2,77,7.7,75.7,7.7z"></path>
                <path fill="#29A5DE" d="M97.6,8.1V6.3h-3.2V2.6l-2,0.7v3.1h-2.6h-1.5h-1.4V4.4c0-1.8,0.7-2.7,2.1-2.7c0.5,0,0.9,0.1,1.3,0.3V0.2
				C89.9,0.1,89.4,0,88.8,0c-1.1,0-2.1,0.4-2.9,1.2c-0.8,0.8-1.1,1.8-1.1,3.1v2h-2.2v1.7h2.2V19h2V8.1h1.4h1.5h2.6v7.5
				c0,2.5,1.1,3.7,3.3,3.7c0.8,0,1.4-0.1,1.9-0.4v-1.7c-0.4,0.3-0.8,0.4-1.3,0.4c-0.7,0-1.1-0.2-1.4-0.5c-0.3-0.4-0.4-1-0.4-1.8V8.1
				H97.6z"></path>
                <path fill="#29A5DE" d="M119.9,19h-2.3l-1.9-5h-7.5l-1.8,5h-2.3L111,1.3h2.1L119.9,19z M115.1,12.1l-2.8-7.5
				c-0.1-0.2-0.2-0.6-0.3-1.2h0c-0.1,0.5-0.2,0.9-0.3,1.2l-2.7,7.5H115.1z"></path>
                <path fill="#29A5DE" d="M130.4,6.9l-7.5,10.3h7.4V19H120v-0.6l7.5-10.3h-6.8V6.3h9.7V6.9z"></path>
                <path fill="#29A5DE" d="M142.6,19h-2v-2h0c-0.8,1.5-2.1,2.3-3.9,2.3c-3,0-4.5-1.8-4.5-5.4V6.3h2v7.2c0,2.7,1,4,3.1,4
				c1,0,1.8-0.4,2.4-1.1c0.6-0.7,1-1.7,1-2.9V6.3h2V19z"></path>
                <path fill="#29A5DE" d="M152.6,8.4c-0.4-0.3-0.9-0.4-1.5-0.4c-0.9,0-1.6,0.4-2.2,1.2c-0.6,0.8-0.9,1.9-0.9,3.3V19h-2V6.3h2v2.6h0
				c0.3-0.9,0.7-1.6,1.3-2.1c0.6-0.5,1.3-0.7,2-0.7c0.5,0,0.9,0.1,1.2,0.2V8.4z"></path>
                <path fill="#29A5DE" d="M164,13.1h-8.9c0,1.4,0.4,2.5,1.1,3.3c0.7,0.8,1.7,1.1,3,1.1c1.4,0,2.7-0.5,3.9-1.4V18
				c-1.1,0.8-2.6,1.2-4.4,1.2c-1.8,0-3.2-0.6-4.2-1.7c-1-1.1-1.5-2.8-1.5-4.8c0-2,0.6-3.6,1.7-4.8c1.1-1.2,2.5-1.9,4.1-1.9
				s2.9,0.5,3.8,1.6s1.4,2.6,1.4,4.4V13.1z M161.9,11.4c0-1.2-0.3-2.1-0.8-2.7c-0.6-0.6-1.3-1-2.3-1c-1,0-1.8,0.3-2.4,1
				c-0.7,0.7-1.1,1.6-1.2,2.7H161.9z"></path>
            </svg>
        <p class="notebooks-text">Notebooks</p></a>
        <span class="mobile-navbar-preview-fix"><br /></span>
        <a href="/faq#preview" class="btn btn-preview">PREVIEW</a>
    <span class="mobile-navbar">
            <button type="button" class="navbar-toggle" data-toggle="collapse" data-target=".navbar-collapse">
                <span class="icon-bar"></span>
                <span class="icon-bar"></span>
                <span class="icon-bar"></span>
            </button>
   </span>
        </div>
    <div class="mobile-navbar">
        <div class="navbar-collapse collapse">
            <ul class="nav navbar-nav nav-fade">
                <li><a href="/library" class="nav-item">Libraries</a></li>
                <li><a href="/faq" class="nav-item">FAQ/Support</a></li>
                <li><a href="/new" class="nav-item">What's New</a></li>
            </ul>
            <ul class="user-nav navbar-nav navbar-right ng-cloak">
    <li ng-if="site.getSignedIn()">
        <a href="/account/settings"><span class="glyphicon glyphicon-cog"></span></a>
        <a href="/account/signout" ng-click="site.signout()">Sign out {{site.getCurUserEmail()}}</a>
    </li>
    <li ng-if="!site.getSignedIn()">
        <a href="/account/signin" ng-click="site.signin()">Sign In</a>
    </li>
</ul>
        </div>
    </div>
    <div class="navbar navbar-inverse cortana-top-nav desktop-navbar">
        <div class="container">
            <div class="navbar-header">
                <button type="button" class="navbar-toggle" data-toggle="collapse" data-target=".navbar-collapse">
                    <span class="icon-bar"></span>
                    <span class="icon-bar"></span>
                    <span class="icon-bar"></span>
                </button>
                <div class="brand-title">
                    
                </div>
            </div>
            <div class="navbar-collapse collapse">
                <ul class="nav navbar-nav nav-fade">
                    <li><a href="/library" class="nav-item">Libraries</a></li>
                    <li><a href="/faq" class="nav-item">FAQ/Support</a></li>
                    <li><a href="/new" class="nav-item">What's New</a></li>
                </ul>
                <ul class="user-nav navbar-nav navbar-right ng-cloak">
    <li ng-if="site.getSignedIn()">
        <a href="/account/settings"><span class="glyphicon glyphicon-cog"></span></a>
        <a href="/account/signout" ng-click="site.signout()">Sign out {{site.getCurUserEmail()}}</a>
    </li>
    <li ng-if="!site.getSignedIn()">
        <a href="/account/signin" ng-click="site.signin()">Sign In</a>
    </li>
</ul>
            </div>
        </div>
    </div>
</div>

<!-- END HEADER -->


    <!-- BEGIN BODY -->

    
<div ng-view></div>


    <!-- END BODY -->

    <!-- BEGIN FOOTER -->
<footer class="footer">
    <div class="container">
        <ul>
            <li>
                <a href="mailto:nbhelp@microsoft.com" ms.title="Contact us" class="ctl_footerNavLink" data-bi-name="Footer_ContactUs" data-bi-slot="1" ms.ea_action="ntd">
                    Contact us
                </a>
            </li>
            <li>
                <a href="/faq" ms.title="FAQ/Support" class="ctl_footerNavLink" data-bi-name="Footer_FaqSupport" data-bi-slot="1" ms.ea_action="ntd">
                    FAQ/Support
                </a>
            </li>
            <li>
                <a href="http://go.microsoft.com/fwlink/?LinkId=248681" ms.title="Privacy and cookies " class="ctl_footerNavLink" data-bi-name="Footer_PrivacyandCookies" data-bi-slot="2" ms.ea_action="ntd">
                    Privacy and cookies
                </a>
            </li>
            <li>
                <a href="http://go.microsoft.com/fwlink/?LinkID=530144" ms.title="Terms of use" class="ctl_footerNavLink" data-bi-name="Footer_TermsOfUse" data-bi-slot="3" ms.ea_action="ntd">
                    Terms of use
                </a>
            </li>
            <li>
                <a href="http://www.microsoft.com/en-us/legal/intellectualproperty/trademarks/en-us.aspx" ms.title="Trademarks" class="ctl_footerNavLink" data-bi-name="Footer_Trademarks" data-bi-slot="4" ms.ea_action="ntd">
                    Trademarks
                </a>
            </li>

            <li class="copyright">
                © 2016 Microsoft
            </li>
        </ul>
    </div>
</footer>

<!-- END FOOTER -->

    <script src="/Scripts/ckeditor/ckeditor.js"></script>

    <script src="/bundles/bootstrap?v=clcVu4Lcmou_xRuHSx7pW5pLei8nr1SWy7AqzsI37ps1"></script>

</body>
</html>
